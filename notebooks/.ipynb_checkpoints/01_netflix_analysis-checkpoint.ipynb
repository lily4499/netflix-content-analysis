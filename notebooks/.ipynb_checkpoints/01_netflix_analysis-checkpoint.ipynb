{
 "cells": [
  {
   "cell_type": "markdown",
   "metadata": {},
   "source": [
    "# 🎬 Netflix Content Insight Project\n",
    "\n",
    "## 📊 Business Goal:\n",
    "_What content trends can Netflix leverage to optimize user engagement and market expansion?_  \n",
    "\n",
    "👉 Identify popular genres and content formats (TV vs Movie)  \n",
    "👉 Understand country-specific content trends  \n",
    "👉 Provide actionable insights for content strategy  \n",
    "\n",
    "---"
   ]
  },
  {
   "cell_type": "markdown",
   "metadata": {},
   "source": [
    "## 🚀 Project Steps:\n",
    "\n",
    "1️⃣ **Setup & Import Libraries**  \n",
    "➡️ Purpose: Prepare Python tools for analysis  \n",
    "➡️ Skill: Python, Pandas, Matplotlib, Seaborn  \n",
    "\n",
    "2️⃣ **Load & Clean Data**  \n",
    "➡️ Purpose: Ensure data quality for analysis  \n",
    "➡️ Skill: Data wrangling (handling missing, parsing dates)  \n",
    "\n",
    "3️⃣ **Explore & Visualize Data**  \n",
    "➡️ Purpose: Uncover trends in type, country, genre  \n",
    "➡️ Skill: EDA, Visualization, Storytelling  \n",
    "\n",
    "4️⃣ **Insight Generation & Conclusion**  \n",
    "➡️ Purpose: Communicate actionable recommendations  \n",
    "➡️ Skill: Critical thinking, stakeholder communication  \n",
    "\n",
    "---"
   ]
  },
  {
   "cell_type": "markdown",
   "metadata": {},
   "source": [
    "## 1️⃣ Setup & Import Libraries"
   ]
  },
  {
   "cell_type": "code",
   "execution_count": null,
   "metadata": {},
   "outputs": [],
   "source": [
    "import pandas as pd\n",
    "import numpy as np\n",
    "import matplotlib.pyplot as plt\n",
    "import seaborn as sns\n",
    "\n",
    "# Set visualization style\n",
    "sns.set(style='whitegrid')"
   ]
  },
  {
   "cell_type": "markdown",
   "metadata": {},
   "source": [
    "## 2️⃣ Load & Clean Data\n",
    "\n",
    "**Purpose:** Prepare the dataset for analysis by handling missing values and extracting useful features."
   ]
  },
  {
   "cell_type": "code",
   "execution_count": null,
   "metadata": {},
   "outputs": [],
   "source": [
    "# Load dataset\n",
    "df = pd.read_csv('../data/netflix_titles.csv')\n",
    "\n",
    "# Display basic info\n",
    "df.shape, df.columns\n",
    "\n",
    "# Check missing values\n",
    "df.isnull().sum()\n",
    "\n",
    "# Fill missing country values\n",
    "df['country'] = df['country'].fillna('Unknown')\n",
    "\n",
    "# Convert date_added to datetime\n",
    "df['date_added'] = df['date_added'].str.strip()\n",
    "df['date_added'] = pd.to_datetime(df['date_added'], errors='coerce')\n",
    "\n",
    "# Extract year of addition\n",
    "df['year_added'] = df['date_added'].dt.year\n",
    "\n",
    "# Create list of genres\n",
    "df['genre_list'] = df['listed_in'].str.split(',')"
   ]
  },
  {
   "cell_type": "markdown",
   "metadata": {},
   "source": [
    "## 3️⃣ Explore & Visualize Data\n",
    "\n",
    "### 3.1 Content Type Distribution (TV Shows vs Movies)"
   ]
  },
  {
   "cell_type": "code",
   "execution_count": null,
   "metadata": {},
   "outputs": [],
   "source": [
    "type_counts = df['type'].value_counts()\n",
    "\n",
    "plt.figure(figsize=(6,4))\n",
    "sns.barplot(x=type_counts.index, y=type_counts.values)\n",
    "plt.title('Content Type Distribution')\n",
    "plt.ylabel('Number of Titles')\n",
    "plt.savefig('../output/type_trend.png')\n",
    "plt.show()"
   ]
  },
  {
   "cell_type": "markdown",
   "metadata": {},
   "source": [
    "### 3.2 Top Content-Producing Countries"
   ]
  },
  {
   "cell_type": "code",
   "execution_count": null,
   "metadata": {},
   "outputs": [],
   "source": [
    "country_counts = df['country'].value_counts().head(10)\n",
    "\n",
    "plt.figure(figsize=(8,5))\n",
    "sns.barplot(y=country_counts.index, x=country_counts.values)\n",
    "plt.title('Top Content-Producing Countries')\n",
    "plt.xlabel('Number of Titles')\n",
    "plt.savefig('../output/country_trend.png')\n",
    "plt.show()"
   ]
  },
  {
   "cell_type": "markdown",
   "metadata": {},
   "source": [
    "### 3.3 Top Genres on Netflix"
   ]
  },
  {
   "cell_type": "code",
   "execution_count": null,
   "metadata": {},
   "outputs": [],
   "source": [
    "df_exploded = df.explode('genre_list')\n",
    "df_exploded['genre_list'] = df_exploded['genre_list'].str.strip()\n",
    "\n",
    "genre_counts = df_exploded['genre_list'].value_counts().head(10)\n",
    "\n",
    "plt.figure(figsize=(8,5))\n",
    "sns.barplot(y=genre_counts.index, x=genre_counts.values)\n",
    "plt.title('Top 10 Genres on Netflix')\n",
    "plt.xlabel('Number of Titles')\n",
    "plt.savefig('../output/genre_trend.png')\n",
    "plt.show()"
   ]
  },
  {
   "cell_type": "markdown",
   "metadata": {},
   "source": [
    "## 4️⃣ Conclusion for Stakeholders\n",
    "\n",
    "**Summary of Insights:**\n",
    "\n",
    "✅ Netflix is heavily investing in TV Shows — opportunity to expand serialized content to retain subscribers.  \n",
    "✅ The US dominates content production, but there is clear growth in non-US markets (South Africa, France, Korea).  \n",
    "✅ Genres like \"Documentaries\" and \"Reality TV\" are on the rise — potential for high ROI content.  \n",
    "\n",
    "**Recommendations:**\n",
    "\n",
    "- Increase focus on diverse international markets to balance US-heavy catalog.  \n",
    "- Expand \"Reality TV\" and \"Docuseries\" to engage younger viewers and improve regional retention.  \n",
    "- Adjust release calendar — explore underutilized periods (e.g., summer releases).  \n",
    "\n",
    "**Next Steps:**\n",
    "- Analyze user engagement data (watch time, ratings) to validate these trends.  \n",
    "- Cross-analyze with regional subscription trends to drive future content investment.  \n",
    "\n",
    "---\n",
    "\n",
    "_Prepared by: [Your Name]_  \n",
    "_Date: [Insert Date]_"
   ]
  }
 ],
 "metadata": {
  "kernelspec": {
   "display_name": "Python 3",
   "language": "python",
   "name": "python3"
  },
  "language_info": {
   "name": "python",
   "version": "3.8"
  }
 },
 "nbformat": 4,
 "nbformat_minor": 5
}
